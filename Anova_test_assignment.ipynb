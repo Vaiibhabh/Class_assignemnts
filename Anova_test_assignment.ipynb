{
 "cells": [
  {
   "cell_type": "markdown",
   "id": "c4c27ac4",
   "metadata": {},
   "source": [
    "# Anova Test\n",
    "Anova test is  done, when we have to compare the mean of multiple coulumns that conatins categorial and numerical values. in place of anova, in such cases we can even do separate t-test for each columns individually but that will increase the number of false positiove, which will affect your overall result. So to avoid that in such cases, we do Anova test."
   ]
  },
  {
   "cell_type": "markdown",
   "id": "d411d2f8",
   "metadata": {},
   "source": [
    "For the test, we are considering to test whether total innings score differes based on some categorical variable like players."
   ]
  },
  {
   "cell_type": "markdown",
   "id": "003b0f5c",
   "metadata": {},
   "source": [
    "ANOVA test hypotheis- The one-way ANOVA tests the null hypothesis that two or more groups have\n",
    "the same population mean.  The test is applied to samples from two or\n",
    "more groups, possibly with differing sizes."
   ]
  },
  {
   "cell_type": "code",
   "execution_count": 75,
   "id": "93aabf8e",
   "metadata": {},
   "outputs": [],
   "source": [
    "H_0= \"Total innings mean scores 'does not differs' based on the players origin\"\n",
    "H_1= \"Total innings mean scores 'does differs' based on the players origin\"\n",
    "\n"
   ]
  },
  {
   "cell_type": "code",
   "execution_count": null,
   "id": "8e92380b",
   "metadata": {},
   "outputs": [],
   "source": [
    "# conclusion criteria\n",
    "if p_value<=0.05:\n",
    "    print(f'we reject the null hypothesis, it means: {H_1}')\n",
    "else:\n",
    "    print(f'we accept the null hypothesis, it means: {H_0}')"
   ]
  },
  {
   "cell_type": "code",
   "execution_count": 2,
   "id": "60f159c7",
   "metadata": {},
   "outputs": [],
   "source": [
    "import numpy as np\n",
    "import pandas as pd\n",
    "import scipy.stats as stats\n",
    "import matplotlib.pyplot as plt\n",
    "np.random.seed(12)"
   ]
  },
  {
   "cell_type": "code",
   "execution_count": 20,
   "id": "f20d4cb7",
   "metadata": {},
   "outputs": [],
   "source": [
    "# genration of categoriacl variable\n",
    "players=['Indian', 'Austrailian', 'English', 'Srilankan', 'WestIndian', 'Afganistani', 'Newzealandian']"
   ]
  },
  {
   "cell_type": "code",
   "execution_count": 21,
   "id": "4c88af88",
   "metadata": {},
   "outputs": [],
   "source": [
    "# generation of random scores for the players that belongs to a particular team\n",
    "cricket_players=np.random.choice(players, size=1000)"
   ]
  },
  {
   "cell_type": "code",
   "execution_count": 22,
   "id": "d31f7c46",
   "metadata": {},
   "outputs": [],
   "source": [
    "# sample players mean  is taken as 54\n",
    "players_mean_score= stats.poisson.rvs(mu= 54, size=1000)"
   ]
  },
  {
   "cell_type": "code",
   "execution_count": 29,
   "id": "1412754b",
   "metadata": {},
   "outputs": [],
   "source": [
    "#Group score data by players of different teams\n",
    "players_frame=pd.DataFrame({'player_origin':cricket_players, 'score':players_mean_score })"
   ]
  },
  {
   "cell_type": "code",
   "execution_count": 30,
   "id": "b474ad88",
   "metadata": {},
   "outputs": [
    {
     "data": {
      "text/html": [
       "<div>\n",
       "<style scoped>\n",
       "    .dataframe tbody tr th:only-of-type {\n",
       "        vertical-align: middle;\n",
       "    }\n",
       "\n",
       "    .dataframe tbody tr th {\n",
       "        vertical-align: top;\n",
       "    }\n",
       "\n",
       "    .dataframe thead th {\n",
       "        text-align: right;\n",
       "    }\n",
       "</style>\n",
       "<table border=\"1\" class=\"dataframe\">\n",
       "  <thead>\n",
       "    <tr style=\"text-align: right;\">\n",
       "      <th></th>\n",
       "      <th>player_origin</th>\n",
       "      <th>score</th>\n",
       "    </tr>\n",
       "  </thead>\n",
       "  <tbody>\n",
       "    <tr>\n",
       "      <th>0</th>\n",
       "      <td>Afganistani</td>\n",
       "      <td>55</td>\n",
       "    </tr>\n",
       "    <tr>\n",
       "      <th>1</th>\n",
       "      <td>Newzealandian</td>\n",
       "      <td>57</td>\n",
       "    </tr>\n",
       "    <tr>\n",
       "      <th>2</th>\n",
       "      <td>Austrailian</td>\n",
       "      <td>67</td>\n",
       "    </tr>\n",
       "    <tr>\n",
       "      <th>3</th>\n",
       "      <td>Newzealandian</td>\n",
       "      <td>60</td>\n",
       "    </tr>\n",
       "    <tr>\n",
       "      <th>4</th>\n",
       "      <td>Srilankan</td>\n",
       "      <td>70</td>\n",
       "    </tr>\n",
       "    <tr>\n",
       "      <th>5</th>\n",
       "      <td>Newzealandian</td>\n",
       "      <td>61</td>\n",
       "    </tr>\n",
       "    <tr>\n",
       "      <th>6</th>\n",
       "      <td>Austrailian</td>\n",
       "      <td>53</td>\n",
       "    </tr>\n",
       "    <tr>\n",
       "      <th>7</th>\n",
       "      <td>Srilankan</td>\n",
       "      <td>50</td>\n",
       "    </tr>\n",
       "    <tr>\n",
       "      <th>8</th>\n",
       "      <td>Srilankan</td>\n",
       "      <td>66</td>\n",
       "    </tr>\n",
       "    <tr>\n",
       "      <th>9</th>\n",
       "      <td>WestIndian</td>\n",
       "      <td>56</td>\n",
       "    </tr>\n",
       "  </tbody>\n",
       "</table>\n",
       "</div>"
      ],
      "text/plain": [
       "   player_origin  score\n",
       "0    Afganistani     55\n",
       "1  Newzealandian     57\n",
       "2    Austrailian     67\n",
       "3  Newzealandian     60\n",
       "4      Srilankan     70\n",
       "5  Newzealandian     61\n",
       "6    Austrailian     53\n",
       "7      Srilankan     50\n",
       "8      Srilankan     66\n",
       "9     WestIndian     56"
      ]
     },
     "execution_count": 30,
     "metadata": {},
     "output_type": "execute_result"
    }
   ],
   "source": [
    "players_frame.head(10)"
   ]
  },
  {
   "cell_type": "code",
   "execution_count": 31,
   "id": "797550f0",
   "metadata": {},
   "outputs": [
    {
     "data": {
      "text/html": [
       "<div>\n",
       "<style scoped>\n",
       "    .dataframe tbody tr th:only-of-type {\n",
       "        vertical-align: middle;\n",
       "    }\n",
       "\n",
       "    .dataframe tbody tr th {\n",
       "        vertical-align: top;\n",
       "    }\n",
       "\n",
       "    .dataframe thead th {\n",
       "        text-align: right;\n",
       "    }\n",
       "</style>\n",
       "<table border=\"1\" class=\"dataframe\">\n",
       "  <thead>\n",
       "    <tr style=\"text-align: right;\">\n",
       "      <th></th>\n",
       "      <th>player_origin</th>\n",
       "      <th>score</th>\n",
       "    </tr>\n",
       "  </thead>\n",
       "  <tbody>\n",
       "    <tr>\n",
       "      <th>990</th>\n",
       "      <td>Srilankan</td>\n",
       "      <td>47</td>\n",
       "    </tr>\n",
       "    <tr>\n",
       "      <th>991</th>\n",
       "      <td>Srilankan</td>\n",
       "      <td>53</td>\n",
       "    </tr>\n",
       "    <tr>\n",
       "      <th>992</th>\n",
       "      <td>Austrailian</td>\n",
       "      <td>49</td>\n",
       "    </tr>\n",
       "    <tr>\n",
       "      <th>993</th>\n",
       "      <td>Srilankan</td>\n",
       "      <td>55</td>\n",
       "    </tr>\n",
       "    <tr>\n",
       "      <th>994</th>\n",
       "      <td>English</td>\n",
       "      <td>64</td>\n",
       "    </tr>\n",
       "    <tr>\n",
       "      <th>995</th>\n",
       "      <td>Indian</td>\n",
       "      <td>59</td>\n",
       "    </tr>\n",
       "    <tr>\n",
       "      <th>996</th>\n",
       "      <td>Newzealandian</td>\n",
       "      <td>49</td>\n",
       "    </tr>\n",
       "    <tr>\n",
       "      <th>997</th>\n",
       "      <td>English</td>\n",
       "      <td>49</td>\n",
       "    </tr>\n",
       "    <tr>\n",
       "      <th>998</th>\n",
       "      <td>Afganistani</td>\n",
       "      <td>64</td>\n",
       "    </tr>\n",
       "    <tr>\n",
       "      <th>999</th>\n",
       "      <td>Austrailian</td>\n",
       "      <td>62</td>\n",
       "    </tr>\n",
       "  </tbody>\n",
       "</table>\n",
       "</div>"
      ],
      "text/plain": [
       "     player_origin  score\n",
       "990      Srilankan     47\n",
       "991      Srilankan     53\n",
       "992    Austrailian     49\n",
       "993      Srilankan     55\n",
       "994        English     64\n",
       "995         Indian     59\n",
       "996  Newzealandian     49\n",
       "997        English     49\n",
       "998    Afganistani     64\n",
       "999    Austrailian     62"
      ]
     },
     "execution_count": 31,
     "metadata": {},
     "output_type": "execute_result"
    }
   ],
   "source": [
    "players_frame.tail(10)"
   ]
  },
  {
   "cell_type": "code",
   "execution_count": 38,
   "id": "f4417678",
   "metadata": {},
   "outputs": [],
   "source": [
    "# creating group by  players origin\n",
    "groups=players_frame.groupby('player_origin').groups"
   ]
  },
  {
   "cell_type": "code",
   "execution_count": 39,
   "id": "82c70240",
   "metadata": {},
   "outputs": [
    {
     "data": {
      "text/plain": [
       "{'Afganistani': [0, 14, 18, 28, 29, 32, 38, 39, 43, 45, 49, 50, 73, 101, 105, 112, 120, 124, 139, 140, 141, 153, 161, 167, 174, 186, 199, 200, 216, 223, 231, 238, 245, 254, 267, 285, 286, 287, 306, 315, 323, 324, 327, 347, 351, 357, 379, 393, 401, 404, 442, 444, 446, 448, 456, 465, 487, 500, 518, 522, 524, 530, 536, 545, 550, 555, 559, 565, 584, 596, 609, 615, 616, 621, 636, 637, 647, 655, 670, 675, 681, 693, 694, 695, 699, 701, 708, 715, 724, 751, 756, 762, 766, 767, 768, 779, 782, 793, 798, 804, ...], 'Austrailian': [2, 6, 12, 20, 25, 34, 44, 47, 57, 68, 87, 92, 94, 98, 104, 109, 121, 134, 150, 151, 152, 181, 187, 190, 205, 207, 209, 211, 214, 215, 229, 234, 237, 243, 252, 269, 280, 283, 288, 304, 307, 308, 311, 317, 319, 320, 355, 358, 360, 361, 362, 366, 372, 385, 386, 398, 416, 419, 427, 430, 447, 449, 455, 460, 462, 464, 466, 479, 480, 482, 494, 498, 503, 525, 526, 537, 546, 547, 551, 558, 575, 578, 580, 581, 585, 586, 587, 590, 592, 593, 602, 604, 605, 611, 619, 623, 627, 630, 666, 674, ...], 'English': [10, 13, 15, 30, 37, 56, 69, 71, 76, 81, 82, 84, 86, 88, 97, 108, 115, 117, 126, 137, 143, 148, 162, 170, 172, 173, 175, 177, 198, 222, 224, 225, 236, 239, 247, 256, 262, 263, 271, 274, 293, 294, 296, 297, 298, 299, 303, 309, 310, 321, 326, 328, 332, 333, 337, 338, 343, 348, 365, 391, 409, 410, 425, 433, 434, 437, 443, 445, 451, 453, 463, 467, 471, 474, 477, 483, 484, 486, 495, 496, 505, 509, 514, 521, 567, 576, 579, 594, 595, 599, 601, 603, 620, 622, 631, 643, 652, 661, 668, 678, ...], 'Indian': [11, 27, 36, 40, 48, 51, 53, 58, 60, 72, 78, 90, 103, 106, 114, 119, 123, 127, 133, 142, 145, 154, 155, 157, 158, 197, 201, 210, 213, 217, 220, 241, 242, 255, 260, 261, 264, 265, 277, 290, 292, 295, 325, 341, 346, 349, 354, 356, 375, 395, 402, 415, 421, 431, 436, 450, 452, 458, 468, 472, 475, 476, 478, 488, 491, 507, 510, 511, 517, 532, 533, 534, 538, 542, 543, 554, 556, 563, 564, 574, 588, 613, 617, 624, 625, 626, 628, 654, 658, 662, 665, 673, 700, 704, 705, 718, 727, 735, 741, 742, ...], 'Newzealandian': [1, 3, 5, 17, 22, 24, 31, 33, 41, 54, 64, 66, 74, 75, 79, 80, 83, 85, 99, 102, 110, 111, 113, 122, 125, 128, 132, 182, 184, 189, 193, 196, 203, 221, 226, 230, 240, 249, 251, 253, 266, 268, 272, 273, 276, 281, 282, 300, 302, 314, 316, 331, 334, 336, 339, 340, 352, 359, 368, 370, 374, 377, 378, 383, 389, 397, 399, 400, 407, 408, 411, 420, 432, 438, 440, 441, 454, 457, 461, 485, 497, 499, 501, 508, 516, 519, 520, 527, 531, 535, 539, 541, 553, 568, 570, 571, 572, 573, 589, 633, ...], 'Srilankan': [4, 7, 8, 16, 19, 23, 52, 62, 63, 65, 67, 70, 77, 89, 91, 95, 130, 135, 136, 138, 144, 156, 163, 164, 169, 178, 179, 180, 185, 204, 206, 212, 218, 219, 232, 235, 244, 248, 250, 258, 270, 279, 291, 305, 322, 329, 330, 335, 344, 345, 367, 369, 371, 376, 380, 381, 382, 384, 392, 394, 396, 405, 406, 417, 418, 422, 424, 429, 435, 439, 469, 473, 490, 493, 513, 515, 523, 528, 529, 557, 560, 561, 562, 566, 569, 582, 598, 600, 610, 612, 614, 629, 634, 639, 641, 644, 646, 649, 650, 653, ...], 'WestIndian': [9, 21, 26, 35, 42, 46, 55, 59, 61, 93, 96, 100, 107, 116, 118, 129, 131, 146, 147, 149, 159, 160, 165, 166, 168, 171, 176, 183, 188, 191, 192, 194, 195, 202, 208, 227, 228, 233, 246, 257, 259, 275, 278, 284, 289, 301, 312, 313, 318, 342, 350, 353, 363, 364, 373, 387, 388, 390, 403, 412, 413, 414, 423, 426, 428, 459, 470, 481, 489, 492, 502, 504, 506, 512, 540, 544, 548, 549, 552, 577, 583, 591, 597, 606, 607, 608, 618, 632, 635, 638, 640, 642, 659, 660, 667, 669, 683, 684, 689, 697, ...]}"
      ]
     },
     "execution_count": 39,
     "metadata": {},
     "output_type": "execute_result"
    }
   ],
   "source": [
    "groups"
   ]
  },
  {
   "cell_type": "code",
   "execution_count": 40,
   "id": "3bfc4fcb",
   "metadata": {},
   "outputs": [],
   "source": [
    "# extract individual group scores\n",
    "Indian= players_mean_score[groups['Indian']]"
   ]
  },
  {
   "cell_type": "code",
   "execution_count": 43,
   "id": "134051c4",
   "metadata": {},
   "outputs": [
    {
     "data": {
      "text/plain": [
       "array([64, 49, 55, 56, 44, 44, 65, 56, 54, 50, 70, 60, 56, 69, 53, 74, 52,\n",
       "       72, 54, 66, 47, 49, 39, 47, 51, 54, 52, 50, 55, 57, 55, 59, 44, 44,\n",
       "       47, 69, 54, 50, 56, 65, 55, 55, 71, 56, 53, 60, 58, 53, 64, 35, 68,\n",
       "       45, 62, 50, 67, 41, 58, 52, 42, 47, 58, 56, 55, 60, 41, 56, 60, 51,\n",
       "       54, 48, 48, 47, 38, 50, 50, 54, 52, 38, 63, 54, 55, 64, 62, 49, 64,\n",
       "       68, 54, 58, 49, 57, 65, 54, 59, 53, 59, 77, 57, 70, 51, 49, 59, 57,\n",
       "       68, 52, 48, 45, 60, 65, 46, 58, 47, 62, 56, 49, 56, 61, 64, 48, 60,\n",
       "       61, 51, 59, 56, 55, 48, 51, 53, 56, 60, 52, 59])"
      ]
     },
     "execution_count": 43,
     "metadata": {},
     "output_type": "execute_result"
    }
   ],
   "source": [
    "Indian"
   ]
  },
  {
   "cell_type": "code",
   "execution_count": 45,
   "id": "237252f7",
   "metadata": {},
   "outputs": [],
   "source": [
    "# extract individual group scores\n",
    "Indian= players_mean_score[groups['Indian']]\n",
    "Austrailian= players_mean_score[groups['Austrailian']]\n",
    "English= players_mean_score[groups['English']]\n",
    "Srilankan= players_mean_score[groups['Srilankan']]\n",
    "WestIndian= players_mean_score[groups['WestIndian']]\n",
    "Afganistani= players_mean_score[groups['Afganistani']]\n",
    "Newzealandian= players_mean_score[groups['Newzealandian']]"
   ]
  },
  {
   "cell_type": "code",
   "execution_count": 47,
   "id": "adfa7db7",
   "metadata": {},
   "outputs": [
    {
     "data": {
      "text/plain": [
       "F_onewayResult(statistic=1.1752610212259909, pvalue=0.31709226526234296)"
      ]
     },
     "execution_count": 47,
     "metadata": {},
     "output_type": "execute_result"
    }
   ],
   "source": [
    "# performing he anova F-test\n",
    "stats.f_oneway(Indian,Austrailian,English,Srilankan,WestIndian,Afganistani,Newzealandian)"
   ]
  },
  {
   "cell_type": "code",
   "execution_count": 79,
   "id": "f593a2b2",
   "metadata": {},
   "outputs": [],
   "source": [
    "p_value=0.317"
   ]
  },
  {
   "cell_type": "code",
   "execution_count": 80,
   "id": "8605a5de",
   "metadata": {},
   "outputs": [
    {
     "name": "stdout",
     "output_type": "stream",
     "text": [
      "we accept the null hypothesis, it means: Total innings mean scores 'does not differs' based on the players origin\n"
     ]
    }
   ],
   "source": [
    "if p_value<=0.05:\n",
    "    print(f'we reject the null hypothesis, it means: {H_1}')\n",
    "else:\n",
    "    print(f'we accept the null hypothesis, it means: {H_0}')"
   ]
  },
  {
   "cell_type": "markdown",
   "id": "e8fb8d7f",
   "metadata": {},
   "source": [
    "# now let's take another data where the player origin will differ the inning mean score and run a second Anova anlysis"
   ]
  },
  {
   "cell_type": "code",
   "execution_count": 77,
   "id": "1d723e9a",
   "metadata": {},
   "outputs": [],
   "source": [
    "H_0= \"Total innings mean scores 'does not differs' based on the players origin\"\n",
    "H_1= \"Total innings mean scores 'does differs' based on the players origin\""
   ]
  },
  {
   "cell_type": "code",
   "execution_count": null,
   "id": "d3b5fcf0",
   "metadata": {},
   "outputs": [],
   "source": [
    "# conclusion criteria\n",
    "if p_value<=0.05:\n",
    "    print(f'we reject the null hypothesis, it means: {H_1}')\n",
    "else:\n",
    "    print(f'we accept the null hypothesis, it means: {H_0}')"
   ]
  },
  {
   "cell_type": "code",
   "execution_count": 59,
   "id": "9e532924",
   "metadata": {},
   "outputs": [],
   "source": [
    "import numpy as np\n",
    "import pandas as pd\n",
    "import scipy.stats as stats\n",
    "import matplotlib.pyplot as plt\n",
    "np.random.seed(12)"
   ]
  },
  {
   "cell_type": "code",
   "execution_count": 60,
   "id": "d3e81a52",
   "metadata": {},
   "outputs": [],
   "source": [
    "# genration of categoriacl variable\n",
    "players=['Indian', 'Austrailian', 'English', 'Srilankan', 'WestIndian', 'Afganistani', 'Newzealandian']"
   ]
  },
  {
   "cell_type": "code",
   "execution_count": 62,
   "id": "4dde20ee",
   "metadata": {},
   "outputs": [],
   "source": [
    "# generation of random scores for the players that belongs to a particular team\n",
    "cricket_players=np.random.choice(players, size=1000)"
   ]
  },
  {
   "cell_type": "markdown",
   "id": "90d6087f",
   "metadata": {},
   "source": [
    "#### here we are creating a different distribution for Indian origin players\n"
   ]
  },
  {
   "cell_type": "code",
   "execution_count": 63,
   "id": "1d7c3e03",
   "metadata": {},
   "outputs": [],
   "source": [
    "#here  for indian player mean score we are taking as 60 against the group average of 54\n",
    "Indian_palyers_mean_score= stats.poisson.rvs(mu=60,size=1000)"
   ]
  },
  {
   "cell_type": "code",
   "execution_count": 64,
   "id": "c99aadfc",
   "metadata": {},
   "outputs": [],
   "source": [
    "# sample players mean  is taken as 54\n",
    "players_mean_score= stats.poisson.rvs(mu= 54, size=1000)"
   ]
  },
  {
   "cell_type": "code",
   "execution_count": 66,
   "id": "0ba717d4",
   "metadata": {},
   "outputs": [],
   "source": [
    "#replaciing the Indian mean score in players_mean_score with the separate data generated by Indian_palyers_mean_score\n",
    "players_mean_score= np.where(cricket_players=='Indian',Indian_palyers_mean_score,players_mean_score)"
   ]
  },
  {
   "cell_type": "code",
   "execution_count": 67,
   "id": "76ebfe6b",
   "metadata": {},
   "outputs": [],
   "source": [
    "#Group score data by players of different teams\n",
    "players_frame=pd.DataFrame({'player_origin':cricket_players, 'score':players_mean_score })"
   ]
  },
  {
   "cell_type": "code",
   "execution_count": 68,
   "id": "63c636a7",
   "metadata": {},
   "outputs": [
    {
     "data": {
      "text/html": [
       "<div>\n",
       "<style scoped>\n",
       "    .dataframe tbody tr th:only-of-type {\n",
       "        vertical-align: middle;\n",
       "    }\n",
       "\n",
       "    .dataframe tbody tr th {\n",
       "        vertical-align: top;\n",
       "    }\n",
       "\n",
       "    .dataframe thead th {\n",
       "        text-align: right;\n",
       "    }\n",
       "</style>\n",
       "<table border=\"1\" class=\"dataframe\">\n",
       "  <thead>\n",
       "    <tr style=\"text-align: right;\">\n",
       "      <th></th>\n",
       "      <th>player_origin</th>\n",
       "      <th>score</th>\n",
       "    </tr>\n",
       "  </thead>\n",
       "  <tbody>\n",
       "    <tr>\n",
       "      <th>0</th>\n",
       "      <td>Austrailian</td>\n",
       "      <td>54</td>\n",
       "    </tr>\n",
       "    <tr>\n",
       "      <th>1</th>\n",
       "      <td>Afganistani</td>\n",
       "      <td>64</td>\n",
       "    </tr>\n",
       "    <tr>\n",
       "      <th>2</th>\n",
       "      <td>Afganistani</td>\n",
       "      <td>71</td>\n",
       "    </tr>\n",
       "    <tr>\n",
       "      <th>3</th>\n",
       "      <td>Srilankan</td>\n",
       "      <td>55</td>\n",
       "    </tr>\n",
       "    <tr>\n",
       "      <th>4</th>\n",
       "      <td>WestIndian</td>\n",
       "      <td>51</td>\n",
       "    </tr>\n",
       "  </tbody>\n",
       "</table>\n",
       "</div>"
      ],
      "text/plain": [
       "  player_origin  score\n",
       "0   Austrailian     54\n",
       "1   Afganistani     64\n",
       "2   Afganistani     71\n",
       "3     Srilankan     55\n",
       "4    WestIndian     51"
      ]
     },
     "execution_count": 68,
     "metadata": {},
     "output_type": "execute_result"
    }
   ],
   "source": [
    "players_frame.head()"
   ]
  },
  {
   "cell_type": "code",
   "execution_count": 69,
   "id": "a7c066ae",
   "metadata": {},
   "outputs": [],
   "source": [
    "# creating group by  players origin\n",
    "groups=players_frame.groupby('player_origin').groups"
   ]
  },
  {
   "cell_type": "code",
   "execution_count": 70,
   "id": "3e70024b",
   "metadata": {},
   "outputs": [],
   "source": [
    "# extract individual group scores\n",
    "Indian= players_mean_score[groups['Indian']]\n",
    "Austrailian= players_mean_score[groups['Austrailian']]\n",
    "English= players_mean_score[groups['English']]\n",
    "Srilankan= players_mean_score[groups['Srilankan']]\n",
    "WestIndian= players_mean_score[groups['WestIndian']]\n",
    "Afganistani= players_mean_score[groups['Afganistani']]\n",
    "Newzealandian= players_mean_score[groups['Newzealandian']]"
   ]
  },
  {
   "cell_type": "code",
   "execution_count": 71,
   "id": "6a746558",
   "metadata": {},
   "outputs": [
    {
     "data": {
      "text/plain": [
       "F_onewayResult(statistic=16.842513661799885, pvalue=1.3930355321355634e-18)"
      ]
     },
     "execution_count": 71,
     "metadata": {},
     "output_type": "execute_result"
    }
   ],
   "source": [
    "# performing he anova F-test\n",
    "stats.f_oneway(Indian,Austrailian,English,Srilankan,WestIndian,Afganistani,Newzealandian)"
   ]
  },
  {
   "cell_type": "code",
   "execution_count": 81,
   "id": "5285bae1",
   "metadata": {},
   "outputs": [],
   "source": [
    "p_value= 1.3930355321355634e-18"
   ]
  },
  {
   "cell_type": "code",
   "execution_count": 82,
   "id": "92a5ff73",
   "metadata": {},
   "outputs": [
    {
     "name": "stdout",
     "output_type": "stream",
     "text": [
      "we reject the null hypothesis, it means: Total innings mean scores 'does differs' based on the players origin\n"
     ]
    }
   ],
   "source": [
    "if p_value<=0.05:\n",
    "    print(f'we reject the null hypothesis, it means: {H_1}')\n",
    "else:\n",
    "    print(f'we accept the null hypothesis, it means: {H_0}')"
   ]
  },
  {
   "cell_type": "code",
   "execution_count": null,
   "id": "1282343b",
   "metadata": {},
   "outputs": [],
   "source": []
  }
 ],
 "metadata": {
  "kernelspec": {
   "display_name": "Python 3 (ipykernel)",
   "language": "python",
   "name": "python3"
  },
  "language_info": {
   "codemirror_mode": {
    "name": "ipython",
    "version": 3
   },
   "file_extension": ".py",
   "mimetype": "text/x-python",
   "name": "python",
   "nbconvert_exporter": "python",
   "pygments_lexer": "ipython3",
   "version": "3.9.12"
  }
 },
 "nbformat": 4,
 "nbformat_minor": 5
}
